{
 "cells": [
  {
   "cell_type": "markdown",
   "metadata": {},
   "source": [
    "#### This Notebook will prompt you for your ArcGIS Online credentials and use them to query items in your org.\n",
    "#### The credentials you provide must have Admin privileges on your org."
   ]
  },
  {
   "cell_type": "code",
   "execution_count": 1,
   "metadata": {},
   "outputs": [],
   "source": [
    "from arcgis.gis import *\n",
    "from arcgis.mapping import WebMap\n",
    "import getpass, datetime\n",
    "import pandas as pd\n",
    "import syswvr4"
   ]
  },
  {
   "cell_type": "markdown",
   "metadata": {},
   "source": [
    "**item_df_columns** is a list of column names that will appear in the exported spreadsheet.\n",
    "\n",
    "**excel_file** is the name and location of the exported excel file.\n",
    "\n",
    "**url_key_word** is key word that you will search for within item URLs in your org.\n",
    "\n",
    "**agol_user** is the user who is logging into AGOL.  This user must have admin privileges within the org.\n",
    "You will be prompted to enter this value.\n",
    "\n",
    "**agol_pass** is the password of the admin user who is logging in."
   ]
  },
  {
   "cell_type": "code",
   "execution_count": 2,
   "metadata": {},
   "outputs": [],
   "source": [
    "item_df_columns = ['Login_Name', 'Full_Name', 'Email_Address', 'Folder', 'Item_Title', 'Item_Type', 'Service URL']\n",
    "excel_file = 'C:/temp/FirstMap_URL_Report_Pro.xlsx'\n",
    "url_key_word = 'firstmap'  # this notebook is currently set to look for FirstMap urls.  Change this to look for something else."
   ]
  },
  {
   "cell_type": "code",
   "execution_count": 23,
   "metadata": {},
   "outputs": [
    {
     "name": "stdout",
     "output_type": "stream",
     "text": [
      "Enter User Name: mtownshend@de\n"
     ]
    }
   ],
   "source": [
    "agol_user = input('Enter User Name: ')"
   ]
  },
  {
   "cell_type": "code",
   "execution_count": 24,
   "metadata": {},
   "outputs": [
    {
     "name": "stdout",
     "output_type": "stream",
     "text": [
      "Enter Password: ········\n"
     ]
    }
   ],
   "source": [
    "agol_pass = getpass.getpass('Enter Password: ')"
   ]
  },
  {
   "cell_type": "code",
   "execution_count": 25,
   "metadata": {},
   "outputs": [],
   "source": [
    "# Creating the excel writer object.\n",
    "writer = pd.ExcelWriter(excel_file, engine = 'openpyxl')"
   ]
  },
  {
   "cell_type": "code",
   "execution_count": 26,
   "metadata": {},
   "outputs": [],
   "source": [
    "# Tis function gets all users in the org.\n",
    "def get_users(user, user_pass):\n",
    "\n",
    "    gis = GIS(url='https://www.arcgis.com', username = user, password = user_pass)\n",
    "    \n",
    "    users = gis.users.search('!esri_ & !admin', max_users = 250)\n",
    "    \n",
    "    return users"
   ]
  },
  {
   "cell_type": "code",
   "execution_count": 27,
   "metadata": {},
   "outputs": [],
   "source": [
    "# This funciton will look at urls in each web map and write a line for \n",
    "# each instance where a URL contains the url_key_word set above.\n",
    "def make_map_report(users, report_name):\n",
    "    list=[]\n",
    "    errors=[]\n",
    "    \n",
    "    for agol_user in users:\n",
    "        user_content = agol_user.items()\n",
    "        # gets info for items not in a folder.\n",
    "        for item in user_content:\n",
    "            if item.type == 'Web Map':\n",
    "                web_map = WebMap(item)\n",
    "                for l in web_map.layers:\n",
    "                    try:\n",
    "                        if url_key_word in l.url:\n",
    "                            list.append([agol_user.username, \n",
    "                                    agol_user.fullName, \n",
    "                                    agol_user.email,\n",
    "                                    None,\n",
    "                                    item.title,\n",
    "                                    item.type,\n",
    "                                    l.url])\n",
    "                    except Exception:\n",
    "                        e = sys.exc_info()[1]\n",
    "                        errors.append([e])\n",
    "\n",
    "        folders = agol_user.folders\n",
    "\n",
    "        # Get info for items in a folder.\n",
    "        for folder in folders:\n",
    "            folder_items = agol_user.items(folder=folder['title'])\n",
    "            for item in folder_items:\n",
    "                if item.type == 'Web Map':\n",
    "                    web_map = WebMap(item)\n",
    "                    for l in web_map.layers:\n",
    "                        try:\n",
    "                            if url_key_word in l.url:\n",
    "                                list.append([agol_user.username, \n",
    "                                        agol_user.fullName, \n",
    "                                        agol_user.email,\n",
    "                                        folder['title'],\n",
    "                                        item.title,\n",
    "                                        item.type,\n",
    "                                        l.url])\n",
    "                        except Exception:\n",
    "                            e = sys.exc_info()[1]\n",
    "                            errors.append([e])\n",
    "\n",
    "    item_df = pd.DataFrame(list, columns=item_df_columns)\n",
    "    item_df.to_excel(writer, sheet_name = report_name)"
   ]
  },
  {
   "cell_type": "code",
   "execution_count": 28,
   "metadata": {},
   "outputs": [],
   "source": [
    "# This funciton will look at urls in each feature service and write a line for \n",
    "# each instance where a URL contains the url_key_word set above.\n",
    "def make_feature_service_report(users, report_name):\n",
    "    layer_list = []\n",
    "    for agol_user in users:\n",
    "        user_content = agol_user.items()\n",
    "        # gets info for items not in a folder.\n",
    "        for item in user_content:\n",
    "            if item.type == 'Feature Service':\n",
    "                    if url_key_word in item.url:\n",
    "                        layer_list.append([agol_user.username, \n",
    "                                    agol_user.fullName, \n",
    "                                    agol_user.email,\n",
    "                                    None,\n",
    "                                    item.title,\n",
    "                                    item.type,\n",
    "                                    item.url])\n",
    "\n",
    "\n",
    "        folders = agol_user.folders\n",
    "\n",
    "        # Get info for items in a folder.\n",
    "        for folder in folders:\n",
    "            folder_items = agol_user.items(folder=folder['title'])\n",
    "            for f_item in folder_items:\n",
    "                if f_item.type == 'Feature Service':\n",
    "                    if url_key_word in f_item.url:\n",
    "                            layer_list.append([agol_user.username, \n",
    "                                    agol_user.fullName, \n",
    "                                    agol_user.email,\n",
    "                                    folder['title'],\n",
    "                                    f_item.title,\n",
    "                                    f_item.type,\n",
    "                                    f_item.url])\n",
    "\n",
    "    # dump the layer_list into a data frame\n",
    "    layer_df = pd.DataFrame(layer_list, columns=item_df_columns)\n",
    "    # Export the data frame to an Excel Spreadsheet\n",
    "    layer_df.to_excel(writer, sheet_name = report_name)"
   ]
  },
  {
   "cell_type": "code",
   "execution_count": 29,
   "metadata": {},
   "outputs": [],
   "source": [
    "\n",
    "# Get all AGOL Users in your Org\n",
    "users = get_users(agol_user, agol_pass)\n",
    "\n",
    "# Make the report for all Web Maps\n",
    "make_map_report(users, 'Web Map Report')\n",
    "\n",
    "# Make the report for all Feature Services\n",
    "make_feature_service_report(users, 'Feature Service Report')\n"
   ]
  },
  {
   "cell_type": "code",
   "execution_count": 30,
   "metadata": {},
   "outputs": [],
   "source": [
    "# save and close the Excel File.  You may not be able to open it unless you save and close.\n",
    "writer.save()\n",
    "writer.close() "
   ]
  },
  {
   "cell_type": "code",
   "execution_count": null,
   "metadata": {},
   "outputs": [],
   "source": []
  }
 ],
 "metadata": {
  "kernelspec": {
   "display_name": "Python 3",
   "language": "python",
   "name": "python3"
  },
  "language_info": {
   "codemirror_mode": {
    "name": "ipython",
    "version": 3
   },
   "file_extension": ".py",
   "mimetype": "text/x-python",
   "name": "python",
   "nbconvert_exporter": "python",
   "pygments_lexer": "ipython3",
   "version": "3.6.9"
  }
 },
 "nbformat": 4,
 "nbformat_minor": 4
}
